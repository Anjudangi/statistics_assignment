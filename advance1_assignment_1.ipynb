{
 "cells": [
  {
   "cell_type": "markdown",
   "id": "9d94f126-3f5e-41c2-ba5a-f1974d080a8f",
   "metadata": {},
   "source": [
    "Q1. What is the Probability density function?"
   ]
  },
  {
   "cell_type": "raw",
   "id": "fe1fb8bb-ba72-42e0-98c1-7ceed575072a",
   "metadata": {},
   "source": [
    "ans.1 The Probability Density Function (PDF) is a concept in probability theory and statistics.\n",
    "It is used to describe the likelihood of a continuous random variable falling within a particular range of values.\n",
    "In simpler terms, the PDF provides a way to model the distribution of a continuous random variable.\n",
    "It's important to note that for discrete random variables, a similar concept is used called the Probability Mass Function (PMF). \n",
    "The main difference is that PMF deals with discrete values, while PDF is for continuous values"
   ]
  },
  {
   "cell_type": "markdown",
   "id": "83f09900-a614-4598-82df-56fd3c67b93c",
   "metadata": {},
   "source": [
    "Q2. What are the types of Probability distribution?"
   ]
  },
  {
   "cell_type": "raw",
   "id": "cc7cf4d2-ded2-4372-bd91-7ce1c43325fe",
   "metadata": {},
   "source": [
    "ans.2 Probability distributions describe how the probabilities are distributed over the possible values of a random variable. \n",
    "There are two main types of probability distributions: discrete and continuous.\n",
    "\n",
    "Discrete Probability Distribution:\n",
    "\n",
    "Probability Mass Function (PMF): This function describes the probabilities of the possible outcomes of a discrete random variable. \n",
    "It gives the probability of each possible value that the random variable can take.\n",
    "Examples: Binomial distribution, Poisson distribution, Hypergeometric distribution.\n",
    "Continuous Probability Distribution:\n",
    "\n",
    "Probability Density Function (PDF): This function describes the probabilities of a continuous random variable falling within a particular range.\n",
    "Unlike the PMF, which gives the probability at specific points, the PDF gives the probability over intervals.\n",
    "Examples: Normal distribution, Uniform distribution, Exponential distribution.\n",
    "\n",
    "Here are some specific probability distributions within each category:\n",
    "\n",
    "Discrete Probability Distributions:\n",
    "\n",
    "Bernoulli Distribution: Describes a random variable with only two possible outcomes, often denoted as success or failure.\n",
    "Binomial Distribution: Represents the number of successes in a fixed number of independent Bernoulli trials.\n",
    "Poisson Distribution: Models the number of events that occur in a fixed interval of time or space.\n",
    "Continuous Probability Distributions:\n",
    "\n",
    "Normal Distribution (Gaussian Distribution): Has a symmetric bell-shaped curve and is often used to model natural phenomena.\n",
    "Uniform Distribution: Assumes that all outcomes in an interval are equally likely.\n",
    "Exponential Distribution: Describes the time between events in a Poisson process."
   ]
  },
  {
   "cell_type": "markdown",
   "id": "66b0bfd7-a760-456d-9635-a8f7b27a3f9f",
   "metadata": {},
   "source": [
    "Q3. Write a Python function to calculate the probability density function of a normal distribution with\n",
    "given mean and standard deviation at a given point."
   ]
  },
  {
   "cell_type": "raw",
   "id": "2cde9bbf-a6d4-40e6-acaa-15f93169d4ce",
   "metadata": {},
   "source": [
    "ans.3  You can use the probability density function (PDF) formula for a normal distribution to create a Python function. \n",
    "The PDF for a normal distribution with mean μ and standard deviation sigma\n",
    "σ at a given point x is given by:\n",
    " Here's a Python function that calculates the PDF of a normal distribution:\n",
    "import math\n",
    "\n",
    "def normal_pdf(x, mean, std_dev):\n",
    "    \"\"\"\n",
    "    Calculate the probability density function (PDF) of a normal distribution.\n",
    "\n",
    "    Parameters:\n",
    "    - x: The point at which to evaluate the PDF.\n",
    "    - mean: The mean of the normal distribution.\n",
    "    - std_dev: The standard deviation of the normal distribution.\n",
    "\n",
    "    Returns:\n",
    "    The PDF value at the given point.\n",
    "    \"\"\"\n",
    "    exponent_term = -0.5 * ((x - mean) / std_dev) ** 2\n",
    "    coefficient = 1 / (std_dev * math.sqrt(2 * math.pi))\n",
    "    pdf_value = coefficient * math.exp(exponent_term)\n",
    "    \n",
    "    return pdf_value\n",
    "\n",
    "# Example usage:\n",
    "mean_value = 0\n",
    "std_dev_value = 1\n",
    "point_to_evaluate = 1.5\n",
    "\n",
    "pdf_result = normal_pdf(point_to_evaluate, mean_value, std_dev_value)\n",
    "print(f\"The PDF at x = {point_to_evaluate} is {pdf_result}\")"
   ]
  },
  {
   "cell_type": "markdown",
   "id": "10b34dbc-5c4d-4892-ac9b-209d0b36268e",
   "metadata": {},
   "source": [
    "Q4. What are the properties of Binomial distribution? Give two examples of events where binomial\n",
    "distribution can be applied."
   ]
  },
  {
   "cell_type": "raw",
   "id": "c53fd38d-fb87-417a-82fc-a711291ccbb2",
   "metadata": {},
   "source": [
    "ans.4 The Binomial distribution is a discrete probability distribution that models the number of successes in a fixed number of\n",
    "independent and identically distributed Bernoulli trials.\n",
    "Here are some key properties of the Binomial distribution:\n",
    "\n",
    "The Binomial distribution is a discrete probability distribution that models the number of successes in a fixed number of independent and\n",
    "identically distributed Bernoulli trials.\n",
    "Here are some key properties of the Binomial distribution:\n",
    "\n",
    "Number of Trials (n): The distribution is based on a fixed number of trials, denoted as \n",
    "n, where each trial can result in either success or failure.  \n",
    "\n",
    "Probability of Success (p): Each trial has two possible outcomes, success or failure. The probability of success is denoted as \n",
    "p, and the probability of failure is 1−p.\n",
    "\n",
    "Independence: The trials are assumed to be independent, meaning the outcome of one trial does not affect the outcome of another.\n",
    "Discreteness: The random variable representing the number of successes is discrete and takes on non-negative integer values."
   ]
  },
  {
   "cell_type": "markdown",
   "id": "e356010b-ade8-4eae-bfc7-51c76a75a597",
   "metadata": {},
   "source": [
    "Q5. Generate a random sample of size 1000 from a binomial distribution with probability of success 0.4\n",
    "and plot a histogram of the results using matplotlib."
   ]
  },
  {
   "cell_type": "raw",
   "id": "61b5309d-bbac-48e0-b353-14832d343edc",
   "metadata": {},
   "source": [
    "ans.5 Certainly! You can use the numpy library to generate a randomsample from a binomial distribution and matplotlib\n",
    "to plot the histogram. Here's an example Python code:\n",
    "mport numpy as np\n",
    "import matplotlib.pyplot as plt\n",
    "\n",
    "# Set the parameters for the binomial distribution\n",
    "n_trials = 1000  # Size of the random sample\n",
    "p_success = 0.4  # Probability of success\n",
    "\n",
    "# Generate a random sample from the binomial distribution\n",
    "binomial_sample = np.random.binomial(n=1, p=p_success, size=n_trials)\n",
    "\n",
    "# Plot a histogram of the results\n",
    "plt.hist(binomial_sample, bins=[-0.5, 0.5, 1.5], edgecolor='black', align='mid', rwidth=0.8)\n",
    "plt.title('Binomial Distribution - Random Sample')\n",
    "plt.xlabel('Number of Successes')\n",
    "plt.ylabel('Frequency')\n",
    "plt.xticks([0, 1], ['Failure', 'Success'])\n",
    "plt.show()\n",
    "\n",
    "In this example, np.random.binomial is used to generate a random sample of size 1000 from a binomial distribution with parameters \n",
    "n=1 (since each trial has only two possible outcomes) and p=0.4 (probability of success). The histogram is then created using plt.hist from the matplotlib library.\n",
    "\n"
   ]
  },
  {
   "cell_type": "markdown",
   "id": "be206260-8368-4df3-ac56-3ebb563499c7",
   "metadata": {},
   "source": [
    "Q6. Write a Python function to calculate the cumulative distribution function of a Poisson distribution\n",
    "with given mean at a given point."
   ]
  },
  {
   "cell_type": "raw",
   "id": "026b4649-2626-4a9d-aa58-dbe924b9aab2",
   "metadata": {},
   "source": [
    "ans.6 The cumulative distribution function (CDF) of a Poisson distribution at a given point is the probability\n",
    "that a Poisson-distributed random variableis less than or equal to that point. The formula for the Poisson CDF is:\n",
    "Here's a Python function that calculates the CDF of a Poisson distribution:\n",
    "\n",
    "import math\n",
    "def poisson_cdf(k, mean):\n",
    "    \"\"\"\n",
    "    Calculate the cumulative distribution function (CDF) of a Poisson distribution.\n",
    "\n",
    "    Parameters:\n",
    "    - k: The point at which to evaluate the CDF.\n",
    "    - mean: The mean of the Poisson distribution.\n",
    "\n",
    "    Returns:\n",
    "    The CDF value at the given point.\n",
    "    \"\"\"\n",
    "    cdf_value = 0\n",
    "    for i in range(k + 1):\n",
    "        cdf_value += (math.exp(-mean) * (mean ** i)) / math.factorial(i)\n",
    "    \n",
    "    return cdf_value\n",
    "\n",
    "# Example usage:\n",
    "poisson_mean = 2.5\n",
    "point_to_evaluate = 3\n",
    "\n",
    "cdf_result = poisson_cdf(point_to_evaluate, poisson_mean)\n",
    "print(f\"The CDF at k = {point_to_evaluate} is {cdf_result}\")\n",
    "\n",
    "Replace the poisson_mean and point_to_evaluate with your desired values. This function uses the formula for the Poisson CDF to \n",
    "compute the cumulative probability at the specified point.\n"
   ]
  },
  {
   "cell_type": "markdown",
   "id": "d285f0c0-d05a-4c40-bedf-4b8f10dfea58",
   "metadata": {},
   "source": [
    "Q7. How Binomial distribution different from Poisson distribution?"
   ]
  },
  {
   "cell_type": "raw",
   "id": "df5e5d67-3077-40ec-ba26-064d8b9661aa",
   "metadata": {},
   "source": [
    "ans.7 The Binomial distribution and Poisson distribution are both probability distributions used to model the number of events or \n",
    "successes in a fixed number of trials or a fixed interval. However, there are key differences between them:\n",
    "Nature of Trials:\n",
    "Binomial Distribution: The Binomial distribution is used when there are a fixed number of independent and identical trials,\n",
    "each with two possible outcomes (success or failure).\n",
    "Poisson Distribution: The Poisson distribution is used when events occur continuously and independently in time or space, \n",
    "and the focus is on the number of events in a fixed interval.\n",
    "\n",
    "Number of Possible Outcomes:\n",
    "Binomial Distribution: Each trial in the Binomial distribution can result in one of two outcomes (success or failure).\n",
    "Poisson Distribution: The Poisson distribution can model a count of events, and the outcomes are non-negative integers (0, 1, 2, ...).\n",
    "Conditions for Applicability:\n",
    "Binomial Distribution: Appropriate when there is a fixed number of trials, and each trial has a constant probability of success.\n",
    "Poisson Distribution: Appropriate when events occur independently and at a constant average rate over time or space.\n",
    "\n",
    "\n"
   ]
  },
  {
   "cell_type": "markdown",
   "id": "6b85003a-e866-4331-bc5f-203c8ee4f800",
   "metadata": {},
   "source": [
    "Q8. Generate a random sample of size 1000 from a Poisson distribution with mean 5 and calculate the\n",
    "sample mean and variance."
   ]
  },
  {
   "cell_type": "raw",
   "id": "f012c82c-ef4d-4ae7-bc48-99b826f31371",
   "metadata": {},
   "source": [
    "ans.8 we can use the numpy library to generate a random sample from a Poisson distribution and then calculate the sample mean and variance.\n",
    "Here's an example Python code:\n",
    "\n",
    "import numpy as np\n",
    "# Set the parameters for the Poisson distribution\n",
    "poisson_mean = 5\n",
    "sample_size = 1000\n",
    "\n",
    "# Generate a random sample from the Poisson distribution\n",
    "poisson_sample = np.random.poisson(lam=poisson_mean, size=sample_size)\n",
    "\n",
    "# Calculate the sample mean and variance\n",
    "sample_mean = np.mean(poisson_sample)\n",
    "sample_variance = np.var(poisson_sample)\n",
    "\n",
    "print(f\"Sample Mean: {sample_mean}\")\n",
    "print(f\"Sample Variance: {sample_variance}\")\n"
   ]
  },
  {
   "cell_type": "markdown",
   "id": "ac4585ae-052d-4fb7-beac-618b4f61f483",
   "metadata": {},
   "source": [
    "Q9. How mean and variance are related in Binomial distribution and Poisson distribution?"
   ]
  },
  {
   "cell_type": "raw",
   "id": "18a652f8-3f09-4a77-b4a2-ddf90635e67a",
   "metadata": {},
   "source": [
    " ans.9 In both the Binomial distribution and the Poisson distribution, the mean (expected value) and variance are closely related,\n",
    "and their relationships are influenced by the parameters of the distributions.\n",
    "Binomial Distribution:\n",
    "\n",
    "Variance depends on both n and p.\n",
    "Variance reaches its maximum when p=0.5.\n",
    "\n",
    "Poisson Distribution:\n",
    "Variance is equal to the mean (λ).\n",
    "Variance is solely determined by the average rate of events.\n",
    "In summary, the mean and variance in the Binomial distribution are related through the product of the number of trials and the \n",
    "probability of success, while in the Poisson distribution, the mean and variance are equal and solely determined by the average rate of events."
   ]
  },
  {
   "cell_type": "markdown",
   "id": "80b4a1c3-f4d0-4e86-9332-28edecad0892",
   "metadata": {},
   "source": [
    "Q10. In normal distribution with respect to mean position, where does the least frequent data appear?"
   ]
  },
  {
   "cell_type": "code",
   "execution_count": null,
   "id": "fbe367d2-dd47-4d37-9365-5b087f58ca4a",
   "metadata": {},
   "outputs": [],
   "source": [
    "ans.10 In a normal distribution (also known as a Gaussian distribution or bell curve), the data is symmetrically distributed around\n",
    "the mean. The mean is the central point of the distribution, and the highest frequency of data occurs at the mean. \n",
    "The shape of the normal distribution is such that as you move away from the mean in either direction, the frequency of data points gradually decreases.\n",
    "\n",
    "Therefore, the least frequent data in a normal distribution appears in the tails, which are the extreme ends of the distribution.\n",
    "The tails extend infinitely in both directions, and as you move farther away from the mean,\n",
    "the probability of encountering data points decreases.\n",
    "\n",
    "In summary, the least frequent data in a normal distribution is found in the tails\n",
    "which are the regions farthest away from the mean. The data becomes progressively less frequent as you move away from\n",
    "the center of the distribution."
   ]
  }
 ],
 "metadata": {
  "kernelspec": {
   "display_name": "Python 3 (ipykernel)",
   "language": "python",
   "name": "python3"
  },
  "language_info": {
   "codemirror_mode": {
    "name": "ipython",
    "version": 3
   },
   "file_extension": ".py",
   "mimetype": "text/x-python",
   "name": "python",
   "nbconvert_exporter": "python",
   "pygments_lexer": "ipython3",
   "version": "3.10.8"
  }
 },
 "nbformat": 4,
 "nbformat_minor": 5
}
