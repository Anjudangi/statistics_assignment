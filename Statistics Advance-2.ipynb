{
 "cells": [
  {
   "cell_type": "markdown",
   "id": "aa9db929-26d8-4553-bde4-cf90ae800d15",
   "metadata": {},
   "source": [
    "# Q1: What are the Probability Mass Function (PMF) and Probability Density Function (PDF)? Explain with\n",
    "an example."
   ]
  },
  {
   "cell_type": "code",
   "execution_count": 1,
   "id": "de236457-c1f8-4468-a0ab-5949983794ef",
   "metadata": {},
   "outputs": [
    {
     "ename": "SyntaxError",
     "evalue": "invalid non-printable character U+200B (1847920935.py, line 15)",
     "output_type": "error",
     "traceback": [
      "\u001b[1;36m  Cell \u001b[1;32mIn[1], line 15\u001b[1;36m\u001b[0m\n\u001b[1;33m    ​\u001b[0m\n\u001b[1;37m    ^\u001b[0m\n\u001b[1;31mSyntaxError\u001b[0m\u001b[1;31m:\u001b[0m invalid non-printable character U+200B\n"
     ]
    }
   ],
   "source": [
    "# Ans.1 Probability Mass Function (PMF)\n",
    "The Probability Mass Function (PMF) is a function that provides the probability of each possible value in a discrete random variable. For a discrete variable, the PMF assigns a probability to each possible outcome such that the sum of the probabilities equals 1.\n",
    "\n",
    "Key Points:\n",
    "Used for discrete random variables (e.g., number of heads in coin tosses, number of goals in a football game).\n",
    "The PMF is defined as P(X=x), which gives the probability that the random variable X takes the value x.\n",
    "\n",
    "Example of PMF:\n",
    "Consider tossing a fair coin twice. The possible outcomes for the number of heads \n",
    "𝑋\n",
    "X are 0, 1, or 2.\n",
    "\n",
    "The PMF for \n",
    "𝑋 is:\n",
    "​\n",
    "  (one head)\n",
    "P(X=2)= 4/1\n",
    "​(two heads)\n",
    "The probabilities add up to 1:\n",
    "P(X=0)+P(X=1)+P(X=2)= 1/4+2/4+1/4=1\n",
    "\n",
    "Probability Density Function (PDF)\n",
    "The Probability Density Function (PDF) is a function that describes the probability of a continuous random variable taking on a range of values. For continuous variables, the probability of the variable taking any specific value is zero, so the PDF is used to compute probabilities over intervals.\n",
    "\n",
    "Key Points:\n",
    "Used for continuous random variables (e.g., height, weight, time).\n",
    "The PDF is denoted as \n",
    "f(x)≥0 for all x.\n",
    "To find the probability that the variable falls within an interval [a,b], we integrate the PDF over that range:"
   ]
  },
  {
   "cell_type": "markdown",
   "id": "66ed8bb8-a245-4cc3-bfa3-ca1487ec0b09",
   "metadata": {},
   "source": [
    "# Q2: What is Cumulative Density Function (CDF)? Explain with an example. Why CDF is used?"
   ]
  },
  {
   "cell_type": "code",
   "execution_count": null,
   "id": "4e35c67c-2f97-443b-a77b-d5bca3069cf1",
   "metadata": {},
   "outputs": [],
   "source": [
    "# Ans.2 Cumulative Distribution Function (CDF)\n",
    "The Cumulative Distribution Function (CDF) is a function that gives the probability that a random variable takes a value less than or equal to a\n",
    "given point. It represents the cumulative probability up to a certain value.\n",
    "The CDF is useful because:\n",
    "\n",
    "Comprehensive Probability Information: It provides the probability for a variable taking any value less than or equal to a given point, which is more informative than just getting the probability for a single value (as with PMF or PDF).\n",
    "Range Calculations: The CDF allows us to calculate the probability that a random variable lies between two values, say \n",
    "a and b, by subtracting the CDF values:\n",
    "P(a≤X≤b)=F(b)−F(a)\n",
    "\n",
    "Decision-Making: The CDF helps in decision-making, especially when dealing with risk or probability thresholds. For example, you can determine\n",
    "the likelihood of an event happening before a certain time or the probability of a variable exceeding a particular value.\n",
    "\n",
    "    Summary:\n",
    "The CDF gives the cumulative probability up to a point.\n",
    "It is used for both discrete and continuous random variables.\n",
    "The CDF is particularly useful for calculating probabilities over intervals and for decision-making processes involving probability thresholds."
   ]
  },
  {
   "cell_type": "markdown",
   "id": "8bd1c4b6-62eb-48aa-a14f-a18ac219f5c4",
   "metadata": {},
   "source": [
    "# Q3: What are some examples of situations where the normal distribution might be used as a model?\n",
    "# Explain how the parameters of the normal distribution relate to the shape of the distribution."
   ]
  },
  {
   "cell_type": "code",
   "execution_count": null,
   "id": "579065c1-14aa-4596-ac2c-626a74452f79",
   "metadata": {},
   "outputs": [],
   "source": [
    "# Ans.3 Examples of Situations Where the Normal Distribution Might Be Used as a Model:\n",
    "The normal distribution (also known as the Gaussian distribution) is commonly used to model real-world situations where data tends to cluster around a\n",
    "central value with a symmetric spread. Some examples include:\n",
    "\n",
    "Heights of People: Human heights within a population (for a particular gender and age group) often follow a normal distribution. Most people have \n",
    "heights close to the average, with fewer people being much taller or shorter.\n",
    "\n",
    "Measurement Errors: When repeatedly measuring something, the small errors made tend to be normally distributed. For instance, if you measure the \n",
    "length of a rod multiple times, the differences between measurements typically follow a normal distribution, with most errors being small and fewer \n",
    "large errors.\n",
    "\n",
    "IQ Scores: Intelligence quotient (IQ) scores are designed to follow a normal distribution, with most people having an IQ close to the average (100),\n",
    "and fewer people scoring significantly higher or lower.\n",
    "\n",
    "Stock Market Returns: Daily returns on stocks or stock indices often approximate a normal distribution, with most returns being close to the mean and\n",
    "extreme gains or losses being rarer (though financial markets can show \"fat tails,\" where extreme values are more frequent than in a perfect normal\n",
    "distribution).\n",
    "\n",
    "Blood Pressure: Systolic and diastolic blood pressure measurements in healthy populations typically follow a normal distribution, \n",
    "    where most individuals’ blood pressure readings cluster around a mean value.\n",
    "\n",
    "\n",
    "How These Parameters Affect the Shape:\n",
    "Symmetry: The normal distribution is symmetric around the mean. If the mean is shifted, the symmetry remains intact, but the center point changes.\n",
    "\n",
    "Height and Spread:\n",
    "\n",
    "A small standard deviation makes the distribution curve tall and narrow, indicating that most data points are close to the mean.\n",
    "A large standard deviation makes the curve short and wide, indicating that the data points are more spread out over a range of values.\n",
    "\n",
    "\n",
    "Summary:\n",
    "The mean (µ) defines the center of the normal distribution.\n",
    "The standard deviation (σ) defines how spread out the data is around the mean.\n",
    "The normal distribution is widely used in areas like human height, measurement errors, IQ scores, and financial returns due to its ability to model \n",
    "    naturally occurring data that clusters around an average value.    "
   ]
  },
  {
   "cell_type": "markdown",
   "id": "4b51ab40-1d5d-456c-b2f6-ed8ce0ab0a8d",
   "metadata": {},
   "source": [
    "# Q4: Explain the importance of Normal Distribution. Give a few real-life examples of Normal Distribution."
   ]
  },
  {
   "cell_type": "code",
   "execution_count": null,
   "id": "123be742-87f5-4ce3-9edc-1b9e8eba5c3c",
   "metadata": {},
   "outputs": [],
   "source": [
    "# Ans.4 Importance of the Normal Distribution:\n",
    "The normal distribution is one of the most important probability distributions in statistics and real-world applications due to its unique mathematical\n",
    "properties and widespread occurrence in nature and human activities. Here’s why it is so crucial:\n",
    "\n",
    "Common in Natural Phenomena: Many naturally occurring phenomena tend to follow a normal distribution. This makes it a useful model for analyzing and \n",
    "predicting outcomes in real life, as it accurately represents a wide variety of random variables in fields like biology, economics, psychology, and \n",
    "engineering.\n",
    "\n",
    "Foundation for Statistical Inference: Many statistical methods, such as hypothesis testing, confidence intervals, and regression analysis, assume that \n",
    "the underlying data is normally distributed. This assumption allows for the derivation of important results and simplifies calculations.\n",
    "\n",
    "Central Limit Theorem (CLT): The CLT states that, for a large enough sample size, the sampling distribution of the sample mean will approach a normal \n",
    "distribution, regardless of the shape of the population distribution. This is a key reason why the normal distribution is applicable in so many areas, \n",
    "even if the original data does not follow a normal distribution.\n",
    "\n",
    "Symmetry and Predictability: The normal distribution is symmetric around the mean, and we can make precise predictions about how much data lies within\n",
    "a certain number of standard deviations from the mean (e.g., 68%, 95%, 99.7%). This predictability is very useful in decision-making and risk assessment.\n",
    "\n",
    "Widely Used in Quality Control: In manufacturing and other industries, normal distribution is used in quality control to assess product variations and\n",
    "    ensure they are within acceptable limits. Tools like Six Sigma rely on the assumption of normal distribution for measuring deviations\n",
    "    and minimizing defects.\n",
    "\n",
    "Real-Life Examples of Normal Distribution:\n",
    "Human Heights: Heights of individuals in a specific population (like adult men or women) tend to follow a normal distribution. Most people’s heights\n",
    "    are close to the average, with fewer individuals being much shorter or much taller than the mean height.\n",
    "\n",
    "Example: The average height of adult men in a certain population might be 5'9\" (175 cm), with a standard deviation of 3 inches (7.6 cm). This means most men are between 5'6\" and 6'0\" tall.\n",
    "IQ Scores: IQ (Intelligence Quotient) scores are designed to follow a normal distribution, with a mean of 100 and a standard deviation of 15.\n",
    "    Most people score close to the mean, with fewer people scoring very high or very low.\n",
    "\n",
    "Example: About 68% of the population has an IQ between 85 and 115 (within one standard deviation), and about 95% have an IQ between 70 and 130 (within two standard deviations).\n",
    "Measurement Errors: When measuring any physical quantity repeatedly, small random errors occur due to various uncontrollable factors (e.g., \n",
    "environmental changes, instrumental accuracy). These errors often follow a normal distribution.\n",
    "\n",
    "Example: Suppose a laboratory measures the length of a metal rod multiple times. The measurements will fluctuate slightly around the true length of the \n",
    "rod, with most measurements clustering near the true value, forming a normal distribution of errors.\n",
    "Stock Market Returns: In finance, daily stock market returns often follow an approximately normal distribution, with most returns being small\n",
    "    (close to the mean) and extreme returns (large gains or losses) being less frequent.\n",
    "\n",
    "Example: The daily percentage change in the price of a stock might have an average return of 0% and a standard deviation of 2%. Most days, the stock\n",
    "    price changes by a small percentage close to 0%, but on rare occasions, it might rise or fall sharply.\n",
    "Blood Pressure: In a healthy population, blood pressure measurements, such as systolic blood pressure, tend to follow a normal distribution. Most \n",
    "    individuals will have blood pressure values around the average, with fewer individuals having extremely high or low values.\n",
    "\n",
    "Example: The average systolic blood pressure might be 120 mmHg with a standard deviation of 10 mmHg. Most people’s blood pressure will lie between \n",
    "    110 mmHg and 130 mmHg.\n",
    "Summary:\n",
    "The normal distribution is critical because it models many real-world situations, simplifies statistical analyses, and underpins many important \n",
    "statistical methods.\n",
    "Real-life examples include human heights, IQ scores, measurement errors, stock market returns, and blood pressure. These examples illustrate \n",
    "the wide-ranging applications of the normal distribution in everyday life, finance, medicine, and quality control.\n"
   ]
  },
  {
   "cell_type": "markdown",
   "id": "add36a72-b264-42ec-8c1e-cd41defd7a02",
   "metadata": {},
   "source": [
    "# Q5: What is Bernaulli Distribution? Give an Example. What is the difference between Bernoulli\n",
    "# Distribution and Binomial Distribution?"
   ]
  },
  {
   "cell_type": "code",
   "execution_count": null,
   "id": "69952af7-1d8e-4735-b4f7-0a6a41b12f4f",
   "metadata": {},
   "outputs": [],
   "source": [
    "# Ans.5 Bernoulli Distribution:\n",
    "The Bernoulli distribution is the simplest discrete probability distribution that models a random experiment with only two possible outcomes: success (typically represented as 1) and failure (typically represented as 0). It is named after the Swiss mathematician Jacob Bernoulli.\n",
    "\n",
    "A Bernoulli random variable \n",
    "𝑋\n",
    "X takes the value:\n",
    "\n",
    "1 with probability p (the probability of success), and\n",
    "0 with probability 1−p (the probability of failure).\n",
    "The probability mass function (PMF) for a Bernoulli-distributed random variable is:\n",
    "if P(X=x)={ 1−p\n",
    "​if x=1\n",
    "if x=0\n",
    "where \n",
    "0\n",
    "≤\n",
    "𝑝\n",
    "≤\n",
    "1\n",
    "0≤p≤1.\n",
    "\n",
    "Key Points:\n",
    "The mean (expected value) of a Bernoulli distribution is E[X]=p.\n",
    "The variance of a Bernoulli distribution is Var(X)=p(1−p).\n",
    "Example of Bernoulli Distribution:\n",
    "A classic example of a Bernoulli distribution is a coin toss:\n",
    "\n",
    "Success (1) could be \"heads\" with probability p=0.5,\n",
    "Failure (0) could be \"tails\" with probability1−p=0.5.\n",
    "​\n",
    "Binomial Distribution:\n",
    "The binomial distribution is an extension of the Bernoulli distribution. It models the number of successes in a fixed number of independent Bernoulli\n",
    "trials, each with the same probability of success p.\n",
    "\n",
    "If you conduct n independent Bernoulli trials, and the probability of success in each trial is \n",
    "p, then the number of successes X follows a binomial distribution:\n",
    "P(X=k)=( \n",
    "kn)p k(1−p)n−k\n",
    " \n",
    "where:\n",
    "n is the number of trials,\n",
    "k is the number of successes (where k=0,1,2,...,n),\n",
    "p is the probability of success on each trial.\n"
   ]
  },
  {
   "cell_type": "code",
   "execution_count": null,
   "id": "0d32ec2e-dcf3-4725-b62f-deffa8c93d1a",
   "metadata": {},
   "outputs": [],
   "source": []
  },
  {
   "cell_type": "code",
   "execution_count": null,
   "id": "0b57ba07-9332-4a3e-b3d5-5c8b4050bffd",
   "metadata": {},
   "outputs": [],
   "source": []
  }
 ],
 "metadata": {
  "kernelspec": {
   "display_name": "Python 3 (ipykernel)",
   "language": "python",
   "name": "python3"
  },
  "language_info": {
   "codemirror_mode": {
    "name": "ipython",
    "version": 3
   },
   "file_extension": ".py",
   "mimetype": "text/x-python",
   "name": "python",
   "nbconvert_exporter": "python",
   "pygments_lexer": "ipython3",
   "version": "3.12.4"
  }
 },
 "nbformat": 4,
 "nbformat_minor": 5
}
