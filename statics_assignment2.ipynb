{
 "cells": [
  {
   "cell_type": "code",
   "execution_count": 4,
   "id": "f955ecc8-dce4-424c-9404-8b3fd45388be",
   "metadata": {},
   "outputs": [],
   "source": [
    "import numpy as np"
   ]
  },
  {
   "cell_type": "code",
   "execution_count": 5,
   "id": "d018504f-d9c7-461e-95c2-c782bd026cc7",
   "metadata": {},
   "outputs": [],
   "source": [
    "import pandas as pd"
   ]
  },
  {
   "cell_type": "code",
   "execution_count": 6,
   "id": "693600cc-3559-47eb-8d54-0847526ed652",
   "metadata": {},
   "outputs": [],
   "source": [
    "import matplotlib as mlt"
   ]
  },
  {
   "cell_type": "markdown",
   "id": "7c9638d3-1220-4d26-b2bc-41772132974c",
   "metadata": {},
   "source": [
    "Q1. What are the three measures of central tendency?"
   ]
  },
  {
   "cell_type": "code",
   "execution_count": 7,
   "id": "c2074daa-b87d-4d60-9079-b56809eda762",
   "metadata": {},
   "outputs": [],
   "source": [
    "# ans.1 The three measures of central tendency are:\n",
    "\n",
    "# Mean: The mean, often referred to as the average, is calculated by adding up all the values in a dataset and then # # # # dividing the sum by the number of values. The formula for the mean is x=sum of total numbers/no of elements.\n",
    "\n",
    " # Median: The median is the middle value in a dataset when it is ordered in ascending or descending order. If there is    # an  even number of observations, the median is the average of the two middle values. The median is less sensitive to    # extreme values (outliers) than the mean.\n",
    "\n",
    " # Mode: The mode is the value that appears most frequently in a dataset. A dataset may have no mode (if no value is      # repeated), one mode (unimodal), or more than one mode (multimodal).\n",
    "\n",
    "# These measures provide insights into the central or typical value in a dataset, helping to summarize and describe the    # data distribution.\n",
    "\n",
    "\n",
    "\n",
    "\n",
    "\n"
   ]
  },
  {
   "cell_type": "markdown",
   "id": "e8a8586c-7324-48df-9927-15e65f9359d2",
   "metadata": {},
   "source": [
    " Q2. What is the difference between the mean, median, and mode? How are they used to measure the\n",
    "central tendency of a dataset?"
   ]
  },
  {
   "cell_type": "code",
   "execution_count": 9,
   "id": "f7efb2b6-78fa-4edd-9571-4de27e848c11",
   "metadata": {},
   "outputs": [],
   "source": [
    "# Ans.2 The difference between mean,median,and mode is:-\n",
    "# Mean:\n",
    "\n",
    "# Definition: The mean is the average of all the values in a dataset.\n",
    " # Calculation: It is calculated by summing up all the values and then dividing by the number of values.\n",
    " #Sensitivity to Outliers: The mean is sensitive to extreme values (outliers) and can be influenced by them. \n",
    " # Median:\n",
    " # Definition: The median is the middle value in a dataset when it is ordered in ascending or descending order.\n",
    " #Calculation: If there is an odd number of observations, the median is the middle value. If there is an even number of observations, the median is the average of the two middle values.\n",
    "# Sensitivity to Outliers: The median is less sensitive to extreme values than the mean, making it a more robust measure of central tendency.\n",
    "# No Formula (for the conceptual definition): The middle value in the ordered dataset.\n",
    " # Mode:\n",
    "# Definition: The mode is the value that appears most frequently in a dataset.\n",
    " # Calculation: It is determined by identifying the value(s) with the highest frequency.\n",
    "# Sensitivity to Outliers: The mode is not sensitive to outliers since it is based on frequency. \n",
    "# No Formula (for the conceptual definition): The most frequently occurring value(s).\n",
    "# How They Measure Central Tendency:\n",
    "\n",
    "# Mean: Provides an arithmetic average and is suitable for symmetric distributions without significant outliers. It is commonly used when a normal distribution is assumed.\n",
    "\n",
    "# Median: Represents the middle value and is robust against extreme values. It is useful when dealing with skewed distributions or datasets with outliers.\n",
    "\n",
    "# Mode: Indicates the most common value(s) and is useful for categorical data or when identifying the most prevalent category is important."
   ]
  },
  {
   "cell_type": "markdown",
   "id": "876098ea-8842-44b7-b2ea-a88ec4770cf3",
   "metadata": {},
   "source": [
    "Q3. Measure the three measures of central tendency for the given height data:\n",
    "[178,177,176,177,178.2,178,175,179,180,175,178.9,176.2,177,172.5,178,176.5]"
   ]
  },
  {
   "cell_type": "code",
   "execution_count": 10,
   "id": "ec2d0b50-9cea-4d8e-9054-e8ef66bb78d0",
   "metadata": {},
   "outputs": [
    {
     "data": {
      "text/plain": [
       "177.01875"
      ]
     },
     "execution_count": 10,
     "metadata": {},
     "output_type": "execute_result"
    }
   ],
   "source": [
    "#ans.3\n",
    "x=[178,177,176,177,178.2,178,175,179,180,175,178.9,176.2,177,172.5,178,176.5]\n",
    "mean=np.mean(x)\n",
    "mean\n"
   ]
  },
  {
   "cell_type": "code",
   "execution_count": 12,
   "id": "e3f2bacb-6986-444c-9083-3ac3d95647e7",
   "metadata": {},
   "outputs": [
    {
     "data": {
      "text/plain": [
       "177.0"
      ]
     },
     "execution_count": 12,
     "metadata": {},
     "output_type": "execute_result"
    }
   ],
   "source": [
    "np.median(x)"
   ]
  },
  {
   "cell_type": "code",
   "execution_count": 13,
   "id": "5dc46a99-ec39-4b95-b80d-3e362cfb9061",
   "metadata": {},
   "outputs": [],
   "source": [
    "from scipy import stats"
   ]
  },
  {
   "cell_type": "code",
   "execution_count": 14,
   "id": "587d6f3e-c05c-4878-80f7-31c51422815e",
   "metadata": {},
   "outputs": [
    {
     "name": "stderr",
     "output_type": "stream",
     "text": [
      "/tmp/ipykernel_109/1654510724.py:1: FutureWarning: Unlike other reduction functions (e.g. `skew`, `kurtosis`), the default behavior of `mode` typically preserves the axis it acts along. In SciPy 1.11.0, this behavior will change: the default value of `keepdims` will become False, the `axis` over which the statistic is taken will be eliminated, and the value None will no longer be accepted. Set `keepdims` to True or False to avoid this warning.\n",
      "  stats.mode(x)\n"
     ]
    },
    {
     "data": {
      "text/plain": [
       "ModeResult(mode=array([177.]), count=array([3]))"
      ]
     },
     "execution_count": 14,
     "metadata": {},
     "output_type": "execute_result"
    }
   ],
   "source": [
    "stats.mode(x)"
   ]
  },
  {
   "cell_type": "markdown",
   "id": "97d6ab30-52f0-4677-a216-c833ccd719a5",
   "metadata": {},
   "source": [
    "Q4. Find the standard deviation for the given data:\n",
    "\n",
    "[178,177,176,177,178.2,178,175,179,180,175,178.9,176.2,177,172.5,178,176.5]"
   ]
  },
  {
   "cell_type": "code",
   "execution_count": 15,
   "id": "d4c6215d-2646-4e13-802b-cad95412841b",
   "metadata": {},
   "outputs": [
    {
     "data": {
      "text/plain": [
       "1.7885814036548633"
      ]
     },
     "execution_count": 15,
     "metadata": {},
     "output_type": "execute_result"
    }
   ],
   "source": [
    "#ans.4 \n",
    "std=[178,177,176,177,178.2,178,175,179,180,175,178.9,176.2,177,172.5,178,176.5]\n",
    "np.std(std)"
   ]
  },
  {
   "cell_type": "markdown",
   "id": "af07aa14-b7a2-4437-a55b-0d5d68d572f0",
   "metadata": {},
   "source": [
    "Q5. How are measures of dispersion such as range, variance, and standard deviation used to describe\n",
    "the spread of a dataset? Provide an example."
   ]
  },
  {
   "cell_type": "markdown",
   "id": "2631929b-50fe-4b24-9ea3-cc19409a243c",
   "metadata": {},
   "source": [
    "ans.5 Measures of dispersion, such as range, variance, and standard deviation, provide information about the spread or variability of a dataset. \n",
    "Range:\n",
    "\n",
    "Definition: The range is the difference between the maximum and minimum values in a dataset.\n",
    "Calculation: \n",
    "Range=Max−Min\n",
    "Variance:\n",
    "\n",
    "Definition: Variance is the average of the squared differences from the mean.\n",
    "Calculation: \n",
    "Variance\n",
    "(�\n",
    "2\n",
    ")\n",
    "=\n",
    "∑\n",
    "�\n",
    "=\n",
    "1\n",
    "�\n",
    "(\n",
    "�\n",
    "�\n",
    "−\n",
    "�\n",
    "ˉ\n",
    ")\n",
    "2\n",
    "�\n",
    "Variance(σ \n",
    "2\n",
    " )= \n",
    "n\n",
    "∑ \n",
    "i=1\n",
    "n\n",
    "​\n",
    " (x \n",
    "i\n",
    "​\n",
    " − \n",
    "x\n",
    "ˉ\n",
    " ) \n",
    "2\n",
    " \n",
    "​\n",
    " \n",
    "Example: Given the dataset {1, 2, 4, 5, 7}, calculate the variance. First, calculate the mean (\n",
    "�\n",
    "ˉ\n",
    "x\n",
    "ˉ\n",
    " ) as 3.8. Then, compute the squared differences from the mean, sum them, and divide by the number of observations: \n",
    "(\n",
    "1\n",
    "−\n",
    "3.8\n",
    ")\n",
    "2\n",
    "+\n",
    "(\n",
    "2\n",
    "−\n",
    "3.8\n",
    ")\n",
    "2\n",
    "+\n",
    "…\n",
    "+\n",
    "(\n",
    "7\n",
    "−\n",
    "3.8\n",
    ")\n",
    "2\n",
    "5\n",
    "=\n",
    "4.96\n",
    "5\n",
    "(1−3.8) \n",
    "2\n",
    " +(2−3.8) \n",
    "2\n",
    " +…+(7−3.8) \n",
    "2\n",
    " \n",
    "​\n",
    " =4.96.\n",
    " Standard Deviation:\n",
    "\n",
    "Definition: The standard deviation is the square root of the variance. It provides a more interpretable measure of spread in the original units of the data.\n",
    "Calculation: \n",
    "Standard Deviation\n",
    "(\n",
    "�\n",
    ")\n",
    "=\n",
    "Variance\n",
    "Standard Deviation(σ)= \n",
    "Variance\n",
    "​\n",
    " \n",
    "Example: Using the variance example, the standard deviation is \n",
    "4.96\n",
    "≈\n",
    "2.23\n",
    "4.96\n",
    "​\n",
    " ≈2.23. It gives an idea of how much individual data points deviate from the mean."
   ]
  },
  {
   "cell_type": "markdown",
   "id": "f02d43b5-85a2-4f85-83f2-3deb7ce9edd4",
   "metadata": {},
   "source": [
    "Q6. What is a Venn diagram?"
   ]
  },
  {
   "cell_type": "code",
   "execution_count": 16,
   "id": "928fe175-0b64-4d4a-a514-858089e04006",
   "metadata": {},
   "outputs": [],
   "source": [
    "# ans.6 A Venn diagram is a visual representation that illustrates the relationships and similarities between different sets or groups."
   ]
  },
  {
   "cell_type": "markdown",
   "id": "2aa222f5-3b65-48d9-93e7-76ce7f74a467",
   "metadata": {},
   "source": [
    "Q7. For the two given sets A = (2,3,4,5,6,7) & B = (0,2,6,8,10). Find:\n",
    "\n",
    "(i) A intersection  B\n",
    "\n",
    "(ii) A ⋃ B"
   ]
  },
  {
   "cell_type": "raw",
   "id": "e3d48d62-bccd-4e9e-879e-488be4f41397",
   "metadata": {},
   "source": [
    " # ans.7(i) A intersection B ={ 2,6 }\n",
    "   #   (ii) A U B={0,2,3,4,5,6,7,8,10}"
   ]
  },
  {
   "cell_type": "markdown",
   "id": "4a38bfb0-128e-4ca9-a95d-acaa15887edb",
   "metadata": {},
   "source": [
    "Q8. What do you understand about skewness in data?"
   ]
  },
  {
   "cell_type": "code",
   "execution_count": 17,
   "id": "f68b80c8-0cb8-4866-a431-8e183613ee9a",
   "metadata": {},
   "outputs": [],
   "source": [
    "# ans.8 Skewness is a statistical measure that describes the asymmetry or lack of symmetry in a probability distribution of a real-valued random variable.\n",
    "# In simpler terms, it measures the extent and direction of skew (departure from horizontal symmetry) in a dataset.\n",
    "# There are three types of skewness:\n",
    "    \n",
    "# Positive Skewness (Right Skewness): The distribution has a long tail on the right side, and the majority of the data points are concentrated on the left side. The mean is typically greater than the median.\n",
    "# Negative Skewness (Left Skewness): The distribution has a long tail on the left side, and the majority of the data points are concentrated on the right side. The mean is typically less than the median.\n",
    "# Zero Skewness: The distribution is perfectly symmetrical.\n"
   ]
  },
  {
   "cell_type": "markdown",
   "id": "65ae0b35-d9fd-49ec-99fb-720ae91b0cb5",
   "metadata": {},
   "source": [
    "Q9. If a data is right skewed then what will be the position of median with respect to mean?"
   ]
  },
  {
   "cell_type": "code",
   "execution_count": null,
   "id": "0ae6010c-908a-44e2-96ae-a80b245491e3",
   "metadata": {},
   "outputs": [],
   "source": [
    "# ans.9 If a dataset is right-skewed (positively skewed), it means that the distribution has a long tail on the right # # # side, \n",
    "# and most of the data points are concentrated on the left side. In a right-skewed distribution:\n",
    "# Mean vs. Median:\n",
    "# The mean will be greater than the median.\n",
    "# The skewness pulls the mean in the direction of the longer tail, making it higher than the median."
   ]
  },
  {
   "cell_type": "markdown",
   "id": "c175db47-ca46-4733-b136-c316a8d78282",
   "metadata": {},
   "source": [
    "Q10. Explain the difference between covariance and correlation. How are these measures used in\n",
    "statistical analysis?"
   ]
  },
  {
   "cell_type": "code",
   "execution_count": null,
   "id": "c1a83c56-8503-4a03-ba6f-df08533ff995",
   "metadata": {},
   "outputs": [],
   "source": [
    " #.10 Covariance and correlation are both measures used in statistics to describe the relationship between two variables, \n",
    "    # but they differ in their scale and interpretation.\n",
    "#Covariance:\n",
    "# Definition: Covariance measures the degree to which two variables change together.\n",
    "# It indicates whether an increase in one variable corresponds to an increase or decrease in another.\n",
    "# Scale: The scale of covariance is in the units of the product of the original variables.\n",
    "# Correlation:\n",
    "\n",
    "# Definition: Correlation is a standardized measure of the strength and direction of the linear relationship between two variables. It provides a more interpretable measure than covariance because it is unitless and always ranges between -1 and 1.\n",
    "# r) is calculated as the covariance divided by the product of the standard deviations of the variables.\n",
    "# Scale: Correlation ranges from -1 (perfect negative correlation) to 1 (perfect positive correlation), with 0 indicating no linear correlation.\n",
    "# Usage in Statistical Analysis:\n",
    "\n",
    "# Covariance: It is useful in understanding the direction of the relationship between two variables (positive or negative). However, the scale of covariance makes it difficult to compare the strength of relationships across different variable pairs.\n",
    "\n",
    "# Correlation: Correlation is widely used because of its standardized scale. It not only indicates the direction but also the strength of the linear relationship. This makes it easier to compare the relationships between different pairs of variables. Additionally,\n",
    "# correlation is not affected by the scale of the variables, making it more interpretable and suitable for comparing relationships between variables with different units.\n",
    "\n",
    "#Both covariance and correlation are essential tools in statistical analysis, helping researchers and analysts understand the patterns and relationships within datasets."
   ]
  },
  {
   "cell_type": "markdown",
   "id": "7538fda5-807b-442b-b382-e9744b944630",
   "metadata": {},
   "source": [
    "Q11. What is the formula for calculating the sample mean? Provide an example calculation for a\n",
    "dataset."
   ]
  },
  {
   "cell_type": "code",
   "execution_count": null,
   "id": "792e64f7-d11f-4de2-9fd2-de4b40ba7533",
   "metadata": {},
   "outputs": [],
   "source": [
    "# ans .11 The sample mean is calculated by summing up all the individual data points in a sample and dividing the sum by the number of observations in the sample. The formula for the sample mean is:\n",
    "#  Suppose you have the following dataset: 4, 7, 2, 8, 5. To calculate the sample mean:\n",
    " #   x=4,7,2,8,5\n",
    "  #  formula :-x=sum of total number/count of total number\n",
    "  #   x= 4+7+2+8+5/5\n",
    " #    x=26/5\n",
    " #    x=5.2\n",
    "  #   the mean is 5.2 \n",
    "\n",
    "\n",
    "\n"
   ]
  },
  {
   "cell_type": "markdown",
   "id": "27a673f5-83e4-420c-b1fe-2bd9589b1f5d",
   "metadata": {},
   "source": [
    "Q12. For a normal distribution data what is the relationship between its measure of central tendency?"
   ]
  },
  {
   "cell_type": "code",
   "execution_count": null,
   "id": "56d27c2b-722b-45cb-90f3-fbfd0defc4ee",
   "metadata": {},
   "outputs": [],
   "source": [
    "# ans.12 For a normal distribution, the three main measures of central tendency—mean, median,\n",
    "# and mode—have an interesting relationship are :- mean =median=mode."
   ]
  },
  {
   "cell_type": "markdown",
   "id": "be86b9be-7dcd-4e83-8f08-83b51e362d13",
   "metadata": {},
   "source": [
    "Q13. How is covariance different from correlation?"
   ]
  },
  {
   "cell_type": "code",
   "execution_count": null,
   "id": "40a21c99-ede8-4330-b395-cba75f932089",
   "metadata": {},
   "outputs": [],
   "source": [
    "# ans.12 Covariance and correlation are both measures used to assess the relationship between two variables,\n",
    "#  but they differ in their scale and interpretation.\n",
    "# 1. Definition:\n",
    "# Covariance:\n",
    "# Measures the degree to which two variables change together.\n",
    "# It indicates whether an increase in one variable corresponds to an increase or decrease in another.\n",
    "# The value of covariance is not standardized, and its scale is in the units of the product of the original variables.\n",
    "# Correlation:\n",
    "# Provides a standardized measure of the strength and direction of the linear relationship between two variables.\n",
    "# The correlation coefficient is unitless and always ranges between -1 and 1, where -1 indicates a perfect negative # # # # linear correlation,\n",
    "# 1 indicates a perfect positive linear correlation, and 0 indicates no linear correlation.\n"
   ]
  },
  {
   "cell_type": "markdown",
   "id": "5526e1df-18ae-4ce7-ab10-b5251ba29432",
   "metadata": {},
   "source": [
    "Q14. How do outliers affect measures of central tendency and dispersion? Provide an example."
   ]
  },
  {
   "cell_type": "code",
   "execution_count": null,
   "id": "d204853d-b6be-469a-9faa-9062dbb33b59",
   "metadata": {},
   "outputs": [],
   "source": [
    "# ans.14 Outliers, which are data points that significantly differ from the rest of the dataset, can have a substantial impact on measures of central tendency and dispersion.\n",
    "\n",
    "# 1. Measures of Central Tendency:\n",
    "# Mean: Outliers can heavily influence the mean. A single extreme value can pull the mean in its direction, leading to a skewed representation of the average.\n",
    "\n",
    "# Median: The median is less affected by outliers. Since it's the middle value when data is ordered, extreme values have less impact on its calculation.\n",
    "\n",
    "# Mode: Outliers might introduce additional modes, especially in skewed distributions, impacting the mode's usefulness as a measure of central tendency.\n",
    "\n",
    "# 2. Measures of Dispersion:\n",
    "\n",
    "# Range: Outliers can significantly affect the range since it is sensitive to extreme values. The range is the difference between the maximum and minimum values.\n",
    "\n",
    "# Interquartile Range (IQR): IQR is less affected by outliers compared to the range, as it focuses on the middle 50% of the data.\n",
    "\n",
    "# Variance and Standard Deviation: Outliers can substantially increase the variance and, consequently, the standard deviation. Both of these measures are influenced by the squared"
   ]
  },
  {
   "cell_type": "code",
   "execution_count": null,
   "id": "5b4605f3-970e-41f6-ae95-69c11bb033c5",
   "metadata": {},
   "outputs": [],
   "source": []
  }
 ],
 "metadata": {
  "kernelspec": {
   "display_name": "Python 3 (ipykernel)",
   "language": "python",
   "name": "python3"
  },
  "language_info": {
   "codemirror_mode": {
    "name": "ipython",
    "version": 3
   },
   "file_extension": ".py",
   "mimetype": "text/x-python",
   "name": "python",
   "nbconvert_exporter": "python",
   "pygments_lexer": "ipython3",
   "version": "3.10.8"
  }
 },
 "nbformat": 4,
 "nbformat_minor": 5
}
